{
 "cells": [
  {
   "cell_type": "code",
   "execution_count": null,
   "metadata": {},
   "outputs": [],
   "source": [
    "import numpy as np\n",
    "from pathlib import Path\n",
    "import librosa\n",
    "from collections import defaultdict\n",
    "import soundfile as sf\n",
    "import tqdm\n",
    "import os\n",
    "from multiprocessing import Pool, cpu_count\n",
    "import cv2\n",
    "\n",
    "%matplotlib inline"
   ]
  },
  {
   "cell_type": "code",
   "execution_count": null,
   "metadata": {},
   "outputs": [],
   "source": [
    "INPUT =  \"../input/train_resampled\"\n",
    "OUTPUT = \"../output/train_jpg\"\n",
    "SAMPLE_RATE = 32_000\n",
    "NUM_WORKERS = cpu_count()\n",
    "\n",
    "print(NUM_WORKERS)"
   ]
  },
  {
   "cell_type": "code",
   "execution_count": null,
   "metadata": {},
   "outputs": [],
   "source": [
    "def audio_to_spec(audio):\n",
    "    spec = librosa.power_to_db(\n",
    "        librosa.feature.melspectrogram(audio, sr=SAMPLE_RATE, fmin=20, fmax=16000, n_mels=128)\n",
    "    )\n",
    "    return spec.astype(np.float32)\n",
    "\n",
    "def audio2vec(path):\n",
    "    x, _ = sf.read(path)\n",
    "    x_spex = audio_to_spec(x)\n",
    "    np.save(f\"{OUTPUT}/{path.parent.name}/{path.name}.npz\", x_spex)\n",
    "    \n",
    "def mono_to_color(X, mean=None, std=None, norm_max=None, norm_min=None, eps=1e-6):\n",
    "    # Stack X as [X,X,X]\n",
    "    X = np.stack([X, X, X], axis=-1)\n",
    "\n",
    "    # Standardize\n",
    "    mean = mean or X.mean()\n",
    "    X = X - mean\n",
    "    std = std or X.std()\n",
    "    Xstd = X / (std + eps)\n",
    "    _min, _max = Xstd.min(), Xstd.max()\n",
    "    norm_max = norm_max or _max\n",
    "    norm_min = norm_min or _min\n",
    "    if (_max - _min) > eps:\n",
    "        # Normalize to [0, 255]\n",
    "        V = Xstd\n",
    "        V[V < norm_min] = norm_min\n",
    "        V[V > norm_max] = norm_max\n",
    "        V = 255 * (V - norm_min) / (norm_max - norm_min)\n",
    "        V = V.astype(np.uint8)\n",
    "    else:\n",
    "        # Just zero\n",
    "        V = np.zeros_like(Xstd, dtype=np.uint8)\n",
    "    return V\n",
    "\n",
    "def audio2pict(path):\n",
    "    x, _ = sf.read(path)\n",
    "    x_spex = audio_to_spec(x)\n",
    "    cv2.imwrite(f\"{OUTPUT}/{path.parent.name}/{path.name}.jpg\", mono_to_color(x_spex))"
   ]
  },
  {
   "cell_type": "code",
   "execution_count": null,
   "metadata": {},
   "outputs": [],
   "source": [
    "recs = defaultdict(list)\n",
    "for directory in tqdm.tqdm_notebook(Path(INPUT).iterdir(), total=len(os.listdir(INPUT))):\n",
    "    if directory.name == \".DS_Store\":\n",
    "        continue\n",
    "    !mkdir -p \"{OUTPUT}/{directory.name}\"\n",
    "    file_paths = [f for f in directory.iterdir() if f.name != \".DS_Store\"]\n",
    "    with Pool(NUM_WORKERS // 2) as p:\n",
    "        #p.map(audio2vec, file_paths)\n",
    "        p.map(audio2pict, file_paths)"
   ]
  },
  {
   "cell_type": "code",
   "execution_count": null,
   "metadata": {},
   "outputs": [],
   "source": [
    "for directory in tqdm.tqdm_notebook(Path(OUTPUT).iterdir(), total=len(os.listdir(OUTPUT))):\n",
    "    if directory.name == \".DS_Store\":\n",
    "        continue\n",
    "    file_paths = [f for f in directory.iterdir() if f.name != \".DS_Store\"]\n",
    "    for path in file_paths:\n",
    "        size = os.path.getsize(path)\n",
    "        if size < 1:\n",
    "            print(path)"
   ]
  },
  {
   "cell_type": "code",
   "execution_count": null,
   "metadata": {},
   "outputs": [],
   "source": [
    "paths = [\n",
    "    f\"{INPUT}/comrav/XC246425.wav\",\n",
    "    f\"{INPUT}/prawar/XC479026.wav\",\n",
    "    f\"{INPUT}/snobun/XC487557.wav\",\n",
    "    f\"{INPUT}/snobun/XC487556.wav\",\n",
    "    f\"{INPUT}/stejay/XC503349.wav\"\n",
    "]"
   ]
  },
  {
   "cell_type": "code",
   "execution_count": null,
   "metadata": {},
   "outputs": [],
   "source": [
    "x, _ = sf.read(paths[0])\n",
    "x_spex = audio_to_spec(x)\n",
    "\n",
    "print(x_spex.shape)\n",
    "cv2.imwrite(f\"tmp.jpg\", mono_to_color(x_spex))"
   ]
  },
  {
   "cell_type": "code",
   "execution_count": null,
   "metadata": {},
   "outputs": [],
   "source": []
  }
 ],
 "metadata": {
  "kernelspec": {
   "display_name": "Python 3",
   "language": "python",
   "name": "python3"
  },
  "language_info": {
   "codemirror_mode": {
    "name": "ipython",
    "version": 3
   },
   "file_extension": ".py",
   "mimetype": "text/x-python",
   "name": "python",
   "nbconvert_exporter": "python",
   "pygments_lexer": "ipython3",
   "version": "3.7.4"
  }
 },
 "nbformat": 4,
 "nbformat_minor": 2
}
