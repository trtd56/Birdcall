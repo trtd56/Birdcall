{
  "nbformat": 4,
  "nbformat_minor": 0,
  "metadata": {
    "colab": {
      "name": "2_train_birdcall_from_image.ipynb",
      "provenance": [],
      "private_outputs": true
    },
    "kernelspec": {
      "name": "python3",
      "display_name": "Python 3"
    },
    "accelerator": "GPU"
  },
  "cells": [
    {
      "cell_type": "code",
      "metadata": {
        "id": "w-yb2NJ2bd1U",
        "colab_type": "code",
        "colab": {}
      },
      "source": [
        "!nvidia-smi"
      ],
      "execution_count": null,
      "outputs": []
    },
    {
      "cell_type": "code",
      "metadata": {
        "id": "0kFnqSeNprmw",
        "colab_type": "code",
        "colab": {}
      },
      "source": [
        "!pip install -q kaggle\n",
        "!mkdir -p ~/.kaggle\n",
        "!cp \"./drive/My Drive/Study/config/kaggle.json\" ~/.kaggle/\n",
        "!chmod 600 ~/.kaggle/kaggle.json\n",
        "!kaggle datasets download \"birdcall-spectrogram-images\"\n",
        "!unzip birdcall-spectrogram-images.zip > /dev/null\n",
        "!rm birdcall-spectrogram-images.zip"
      ],
      "execution_count": null,
      "outputs": []
    },
    {
      "cell_type": "code",
      "metadata": {
        "id": "0syEBFRpwwLb",
        "colab_type": "code",
        "colab": {}
      },
      "source": [
        "import numpy as np\n",
        "import pandas as pd\n",
        "import os\n",
        "import tqdm\n",
        "import random\n",
        "import time\n",
        "\n",
        "import torch\n",
        "import torch.nn as nn\n",
        "from torch.optim import Adam\n",
        "from torchvision.models import resnet18\n",
        "from torchvision import datasets, transforms\n",
        "from torch.optim.lr_scheduler import CosineAnnealingLR\n",
        "\n",
        "import matplotlib.pyplot as plt\n",
        "\n",
        "from sklearn.metrics import f1_score\n",
        "from sklearn.model_selection import StratifiedKFold\n",
        "\n",
        "from contextlib import contextmanager\n",
        "from typing import Optional\n",
        "import logging\n",
        "\n",
        "device = torch.device('cuda')"
      ],
      "execution_count": null,
      "outputs": []
    },
    {
      "cell_type": "code",
      "metadata": {
        "id": "EAq2bIZ0yBJr",
        "colab_type": "code",
        "colab": {}
      },
      "source": [
        "def set_seed(seed: int = 42):\n",
        "    random.seed(seed)\n",
        "    np.random.seed(seed)\n",
        "    os.environ[\"PYTHONHASHSEED\"] = str(seed)\n",
        "    torch.manual_seed(seed)\n",
        "    torch.cuda.manual_seed(seed)  # type: ignore\n",
        "    torch.backends.cudnn.deterministic = True  # type: ignore\n",
        "    torch.backends.cudnn.benchmark = True  # type: ignore\n",
        "    \n",
        "    \n",
        "def get_logger(out_file=None):\n",
        "    logger = logging.getLogger()\n",
        "    formatter = logging.Formatter(\"%(asctime)s - %(levelname)s - %(message)s\")\n",
        "    logger.handlers = []\n",
        "    logger.setLevel(logging.INFO)\n",
        "\n",
        "    handler = logging.StreamHandler()\n",
        "    handler.setFormatter(formatter)\n",
        "    handler.setLevel(logging.INFO)\n",
        "    logger.addHandler(handler)\n",
        "\n",
        "    if out_file is not None:\n",
        "        fh = logging.FileHandler(out_file)\n",
        "        fh.setFormatter(formatter)\n",
        "        fh.setLevel(logging.INFO)\n",
        "        logger.addHandler(fh)\n",
        "    logger.info(\"logger set up\")\n",
        "    return logger\n",
        "    \n",
        "    \n",
        "@contextmanager\n",
        "def timer(name: str, logger: Optional[logging.Logger] = None):\n",
        "    t0 = time.time()\n",
        "    msg = f\"[{name}] start\"\n",
        "    if logger is None:\n",
        "        print(msg)\n",
        "    else:\n",
        "        logger.info(msg)\n",
        "    yield\n",
        "\n",
        "    msg = f\"[{name}] done in {time.time() - t0:.2f} s\"\n",
        "    if logger is None:\n",
        "        print(msg)\n",
        "    else:\n",
        "        logger.info(msg)"
      ],
      "execution_count": null,
      "outputs": []
    },
    {
      "cell_type": "code",
      "metadata": {
        "id": "iknci7vbsjNZ",
        "colab_type": "code",
        "colab": {}
      },
      "source": [
        "class config:\n",
        "    SEED = 416\n",
        "    N_FOLDS = 5\n",
        "    INPUT =  \"./train_jpg/\"\n",
        "    N_LABEL = 264\n",
        "    \n",
        "    TRAIN_BS = 256\n",
        "    VALID_BS = 256\n",
        "    TRAIN_WORKS = 0\n",
        "    VALID_WORKS = 0\n",
        "    \n",
        "    DROPOUT_RATE = 0.2\n",
        "    N_UNIT = 512\n",
        "\n",
        "    EPOCHS = 20\n",
        "    RESNET_LR = 1e-4\n",
        "    FC_LR = 1e-3\n",
        "    \n",
        "    FOLD = 0\n",
        "    PRETRAINED = True"
      ],
      "execution_count": null,
      "outputs": []
    },
    {
      "cell_type": "code",
      "metadata": {
        "id": "PQFHJUPCkVNd",
        "colab_type": "code",
        "colab": {}
      },
      "source": [
        "logger = get_logger(\"main.log\")"
      ],
      "execution_count": null,
      "outputs": []
    },
    {
      "cell_type": "code",
      "metadata": {
        "id": "B2eQgNRKvOz1",
        "colab_type": "code",
        "colab": {}
      },
      "source": [
        "def get_dataloder():\n",
        "    train_transform = transforms.Compose([\n",
        "        transforms.RandomCrop((128, 313), pad_if_needed=True, padding_mode=\"constant\"),\n",
        "        transforms.ToTensor()\n",
        "    ])\n",
        "    valid_transform = transforms.Compose([\n",
        "        transforms.CenterCrop((128, 313)),\n",
        "        transforms.ToTensor()\n",
        "    ])\n",
        "\n",
        "    train_datasets = datasets.ImageFolder(root=config.INPUT, transform=train_transform)\n",
        "    valid_datasets = datasets.ImageFolder(root=config.INPUT, transform=valid_transform)\n",
        "\n",
        "    skf = StratifiedKFold(n_splits=config.N_FOLDS, shuffle=True, random_state=config.SEED)\n",
        "\n",
        "    _t = train_datasets.targets\n",
        "    trn_idx, val_idx = [(trn_idx, val_idx) for trn_idx, val_idx in skf.split(_t, _t)][config.FOLD]\n",
        "\n",
        "    train_datasets = torch.utils.data.Subset(train_datasets, trn_idx)\n",
        "    valid_datasets = torch.utils.data.Subset(valid_datasets, val_idx)\n",
        "\n",
        "    train_data_loader = torch.utils.data.DataLoader(train_datasets, batch_size=config.TRAIN_BS, shuffle=True, num_workers=config.TRAIN_WORKS)\n",
        "    valid_data_loader = torch.utils.data.DataLoader(valid_datasets, batch_size=config.VALID_BS, shuffle=False, num_workers=config.VALID_WORKS)\n",
        "    \n",
        "    return train_data_loader, valid_data_loader\n",
        "\n",
        "#for d in train_data_loader:\n",
        "#    break\n",
        "#img = d[0][0]\n",
        "#plt.imshow(np.rollaxis(img.numpy(), 0, 3))\n",
        "\n",
        "#with timer(f\"Loading bs=32\", logger):\n",
        "#    for d in train_data_loader:\n",
        "#        break"
      ],
      "execution_count": null,
      "outputs": []
    },
    {
      "cell_type": "code",
      "metadata": {
        "id": "lQREzTLSxDlv",
        "colab_type": "code",
        "colab": {}
      },
      "source": [
        "def loss_fn(output, target):\n",
        "    loss = nn.BCEWithLogitsLoss()(output, target)\n",
        "    return loss\n",
        "\n",
        "class BirdcallNet(nn.Module):\n",
        "    def __init__(self):\n",
        "        super(BirdcallNet, self).__init__()\n",
        "        \n",
        "        self.resnet = resnet18(pretrained=config.PRETRAINED)\n",
        "        self.resnet_head = list(self.resnet.children())\n",
        "        self.resnet_head = nn.Sequential(*self.resnet_head[:-1])\n",
        "        \n",
        "        self.dropout = nn.Dropout(p=config.DROPOUT_RATE)\n",
        "        self.fc = nn.Linear(config.N_UNIT, config.N_LABEL)\n",
        "\n",
        "    def forward(self, x):\n",
        "        h = self.resnet_head(x)\n",
        "        h = self.dropout(h.view(-1, config.N_UNIT))\n",
        "        logits = self.fc(h)\n",
        "        return logits"
      ],
      "execution_count": null,
      "outputs": []
    },
    {
      "cell_type": "code",
      "metadata": {
        "id": "YZa1i6wbYyCm",
        "colab_type": "code",
        "colab": {}
      },
      "source": [
        "def train_fn(train_data_loader, model, optimizer, scheduler=None):\n",
        "    losses, lrs = [], []\n",
        "    model.train()\n",
        "    t = tqdm.notebook.tqdm(train_data_loader, total=len(train_data_loader))\n",
        "    for (X, y) in t:\n",
        "    \n",
        "        y_true = torch.eye(config.N_LABEL)[y].to(device)\n",
        "    \n",
        "        y_pred = model(X.to(device))\n",
        "    \n",
        "        loss = loss_fn(y_pred, y_true)\n",
        "        optimizer.zero_grad()\n",
        "        loss.backward()\n",
        "        optimizer.step()\n",
        "        if scheduler is not None:\n",
        "            scheduler.step()\n",
        "        \n",
        "        t.set_description(f\"Train Loss = {loss.item()}\")\n",
        "\n",
        "        losses.append(loss.item())\n",
        "        lrs.append(np.array([param_group[\"lr\"] for param_group in optimizer.param_groups]).mean())\n",
        "    return losses, lrs\n",
        "\n",
        "        \n",
        "def valid_fn(valid_data_loader, model):\n",
        "    f1_lst = []\n",
        "    model.eval()\n",
        "    t = tqdm.notebook.tqdm(valid_data_loader, total=len(valid_data_loader))\n",
        "    for (X, y) in t:\n",
        "\n",
        "        with torch.no_grad():\n",
        "            y_pred = model(X.to(device))\n",
        "\n",
        "        f1 = f1_score(y, y_pred.sigmoid().argmax(1).cpu(), average=\"micro\")\n",
        "        f1_lst.append(f1)\n",
        "    return sum(f1_lst)/len(f1_lst)"
      ],
      "execution_count": null,
      "outputs": []
    },
    {
      "cell_type": "code",
      "metadata": {
        "id": "uNIuATTqY3b6",
        "colab_type": "code",
        "colab": {}
      },
      "source": [
        "print(f\"### Fold-{config.FOLD} ###\")\n",
        "\n",
        "set_seed(config.SEED+config.FOLD)\n",
        "\n",
        "train_data_loader, valid_data_loader = get_dataloder()\n",
        "\n",
        "model = BirdcallNet()\n",
        "#weights_path = \"../input/birdcall-trained-models/birdcallnet_f0_best.bin\"\n",
        "#model.load_state_dict(torch.load(weights_path))\n",
        "model.to(device)\n",
        "\n",
        "optimizer = Adam([{'params': model.resnet.parameters(), 'lr': config.RESNET_LR},\n",
        "                  {'params': model.fc.parameters(), 'lr': config.FC_LR}])\n",
        "scheduler = CosineAnnealingLR(optimizer, T_max=20, eta_min=0.0)\n",
        "\n",
        "best_score = 0\n",
        "trn_losses, trn_lrs, val_scores = [], [], []\n",
        "for epoch in range(config.EPOCHS):\n",
        "    print(f\"{epoch} epoch\")\n",
        "    losses, lrs = train_fn(train_data_loader, model, optimizer, scheduler)\n",
        "    val_f1 = valid_fn(valid_data_loader, model)\n",
        "    val_scores.append(val_f1)\n",
        "    trn_losses.extend(losses)\n",
        "    trn_lrs.extend(lrs)\n",
        "    if best_score <= val_f1:\n",
        "        best_score = val_f1\n",
        "        torch.save(model.state_dict(), f\"birdcallnet_f{config.FOLD}_best.bin\")\n",
        "        print(f\"Best Score Update!!! -> {best_score}\")"
      ],
      "execution_count": null,
      "outputs": []
    },
    {
      "cell_type": "code",
      "metadata": {
        "id": "z5Ke6jiIvQqC",
        "colab_type": "code",
        "colab": {}
      },
      "source": [
        "plt.plot(trn_lrs)"
      ],
      "execution_count": null,
      "outputs": []
    },
    {
      "cell_type": "code",
      "metadata": {
        "id": "eolGRLNEvLk_",
        "colab_type": "code",
        "colab": {}
      },
      "source": [
        "plt.plot(trn_losses)"
      ],
      "execution_count": null,
      "outputs": []
    },
    {
      "cell_type": "code",
      "metadata": {
        "id": "ClZoHVjCbrsn",
        "colab_type": "code",
        "colab": {}
      },
      "source": [
        "plt.plot(val_scores)"
      ],
      "execution_count": null,
      "outputs": []
    },
    {
      "cell_type": "code",
      "metadata": {
        "id": "RrP0dNZUvJY2",
        "colab_type": "code",
        "colab": {}
      },
      "source": [
        "max(val_scores)"
      ],
      "execution_count": null,
      "outputs": []
    },
    {
      "cell_type": "code",
      "metadata": {
        "id": "RaLISTdpvKiI",
        "colab_type": "code",
        "colab": {}
      },
      "source": [
        ""
      ],
      "execution_count": null,
      "outputs": []
    }
  ]
}