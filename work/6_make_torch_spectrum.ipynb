{
 "cells": [
  {
   "cell_type": "code",
   "execution_count": 1,
   "metadata": {},
   "outputs": [
    {
     "name": "stderr",
     "output_type": "stream",
     "text": [
      "/usr/local/var/pyenv/versions/3.7.4/lib/python3.7/site-packages/librosa/util/decorators.py:9: NumbaDeprecationWarning: An import was requested from a module that has moved location.\n",
      "Import requested from: 'numba.decorators', please update to use 'numba.core.decorators' or pin to Numba version 0.48.0. This alias will not be present in Numba version 0.50.0.\n",
      "  from numba.decorators import jit as optional_jit\n",
      "/usr/local/var/pyenv/versions/3.7.4/lib/python3.7/site-packages/librosa/util/decorators.py:9: NumbaDeprecationWarning: An import was requested from a module that has moved location.\n",
      "Import of 'jit' requested from: 'numba.decorators', please update to use 'numba.core.decorators' or pin to Numba version 0.48.0. This alias will not be present in Numba version 0.50.0.\n",
      "  from numba.decorators import jit as optional_jit\n",
      "/usr/local/var/pyenv/versions/3.7.4/lib/python3.7/site-packages/noisereduce/noisereduce.py:5: TqdmExperimentalWarning: Using `tqdm.autonotebook.tqdm` in notebook mode. Use `tqdm.tqdm` instead to force console mode (e.g. in jupyter console)\n",
      "  from tqdm.autonotebook import tqdm\n"
     ]
    }
   ],
   "source": [
    "import numpy as np\n",
    "from pathlib import Path\n",
    "import librosa\n",
    "import librosa.display\n",
    "from collections import defaultdict\n",
    "import soundfile as sf\n",
    "import tqdm\n",
    "import os\n",
    "from multiprocessing import Pool, cpu_count\n",
    "import cv2\n",
    "from matplotlib import pyplot as plt\n",
    "import IPython\n",
    "import pandas as pd\n",
    "import scipy.signal\n",
    "import time\n",
    "from datetime import timedelta as td\n",
    "import noisereduce as nr\n",
    "\n",
    "from IPython.display import Audio, IFrame, display\n",
    "from scipy import signal\n",
    "import random\n",
    "from scipy.ndimage import maximum_filter1d\n",
    "import pickle\n",
    "import torch\n",
    "\n",
    "from torchlibrosa.stft import Spectrogram, LogmelFilterBank\n",
    "\n",
    "%matplotlib inline"
   ]
  },
  {
   "cell_type": "code",
   "execution_count": 2,
   "metadata": {},
   "outputs": [
    {
     "name": "stdout",
     "output_type": "stream",
     "text": [
      "12\n"
     ]
    }
   ],
   "source": [
    "INPUT =  \"../input/resample_sound_2\"\n",
    "OUTPUT = \"../output/train_img_7\"\n",
    "    \n",
    "NUM_WORKERS = cpu_count()\n",
    "print(NUM_WORKERS)"
   ]
  },
  {
   "cell_type": "code",
   "execution_count": 4,
   "metadata": {},
   "outputs": [],
   "source": [
    "sample_rate=32000\n",
    "window_size=1024\n",
    "hop_size=320\n",
    "mel_bins=64\n",
    "fmin=50\n",
    "fmax=14000\n",
    "window = 'hann'\n",
    "center = True\n",
    "pad_mode = 'reflect'\n",
    "ref = 1.0\n",
    "amin = 1e-10\n",
    "top_db = None\n",
    "        \n",
    "spectrogram_extractor = Spectrogram(\n",
    "            n_fft=window_size, hop_length=hop_size, \n",
    "            win_length=window_size, window=window, center=center, pad_mode=pad_mode, \n",
    "            freeze_parameters=True)\n",
    "logmel_extractor = LogmelFilterBank(\n",
    "            sr=sample_rate, n_fft=window_size, \n",
    "            n_mels=mel_bins, fmin=fmin, fmax=fmax, ref=ref, amin=amin, top_db=top_db, \n",
    "            freeze_parameters=True)\n",
    "\n",
    "def audio_to_spec(audio):\n",
    "    x = torch.tensor(audio).unsqueeze(0)\n",
    "    x = spectrogram_extractor(x)\n",
    "    x = logmel_extractor(x)\n",
    "    x = x[0, 0, :, :].permute(1, 0)\n",
    "    return x.numpy()\n",
    "\n",
    "def mono_to_color(X, mean=None, std=None, norm_max=None, norm_min=None, eps=1e-6):\n",
    "    # Stack X as [X,X,X]\n",
    "    X = np.stack([X, X, X], axis=-1)\n",
    "\n",
    "    # Standardize\n",
    "    mean = mean or X.mean()\n",
    "    X = X - mean\n",
    "    std = std or X.std()\n",
    "    Xstd = X / (std + eps)\n",
    "    _min, _max = Xstd.min(), Xstd.max()\n",
    "    norm_max = norm_max or _max\n",
    "    norm_min = norm_min or _min\n",
    "    if (_max - _min) > eps:\n",
    "        # Normalize to [0, 255]\n",
    "        V = Xstd\n",
    "        V[V < norm_min] = norm_min\n",
    "        V[V > norm_max] = norm_max\n",
    "        V = 255 * (V - norm_min) / (norm_max - norm_min)\n",
    "        V = V.astype(np.uint8)\n",
    "    else:\n",
    "        # Just zero\n",
    "        V = np.zeros_like(Xstd, dtype=np.uint8)\n",
    "    return V\n",
    "\n",
    "def audio2pict(path):\n",
    "    x, _ = librosa.load(path=path, sr=sample_rate, mono=True)\n",
    "    x_spec = audio_to_spec(x)\n",
    "    img = mono_to_color(x_spec)\n",
    "    cv2.imwrite(f\"{OUTPUT}/{path.parent.name}/{path.name}.jpg\", img)\n",
    "    \n",
    "def audio2vec(path):\n",
    "    x, _ = librosa.load(path=path, sr=sample_rate, mono=True)\n",
    "    x_spec = audio_to_spec(x)\n",
    "    np.save(f\"{OUTPUT}/{path.parent.name}/{path.name}\", x_spec)"
   ]
  },
  {
   "cell_type": "code",
   "execution_count": 6,
   "metadata": {},
   "outputs": [
    {
     "name": "stderr",
     "output_type": "stream",
     "text": [
      "/usr/local/var/pyenv/versions/3.7.4/lib/python3.7/site-packages/ipykernel_launcher.py:6: TqdmDeprecationWarning: This function will be removed in tqdm==5.0.0\n",
      "Please use `tqdm.notebook.tqdm` instead of `tqdm.tqdm_notebook`\n",
      "  \n"
     ]
    },
    {
     "data": {
      "application/vnd.jupyter.widget-view+json": {
       "model_id": "514c587c352e40b5a5ecb948ff3ea58a",
       "version_major": 2,
       "version_minor": 0
      },
      "text/plain": [
       "HBox(children=(FloatProgress(value=0.0, max=54.0), HTML(value='')))"
      ]
     },
     "metadata": {},
     "output_type": "display_data"
    },
    {
     "name": "stdout",
     "output_type": "stream",
     "text": [
      "\n"
     ]
    },
    {
     "data": {
      "application/vnd.jupyter.widget-view+json": {
       "model_id": "2a2062b67c3b44bd99394b489c0c24d1",
       "version_major": 2,
       "version_minor": 0
      },
      "text/plain": [
       "HBox(children=(FloatProgress(value=0.0, max=51.0), HTML(value='')))"
      ]
     },
     "metadata": {},
     "output_type": "display_data"
    },
    {
     "name": "stdout",
     "output_type": "stream",
     "text": [
      "\n"
     ]
    },
    {
     "data": {
      "application/vnd.jupyter.widget-view+json": {
       "model_id": "c6162f64e2ba4b35bb02c351623db72b",
       "version_major": 2,
       "version_minor": 0
      },
      "text/plain": [
       "HBox(children=(FloatProgress(value=0.0, max=56.0), HTML(value='')))"
      ]
     },
     "metadata": {},
     "output_type": "display_data"
    },
    {
     "name": "stdout",
     "output_type": "stream",
     "text": [
      "\n"
     ]
    },
    {
     "data": {
      "application/vnd.jupyter.widget-view+json": {
       "model_id": "b00d7f965da54c6bb12c1cb437efde9f",
       "version_major": 2,
       "version_minor": 0
      },
      "text/plain": [
       "HBox(children=(FloatProgress(value=0.0, max=47.0), HTML(value='')))"
      ]
     },
     "metadata": {},
     "output_type": "display_data"
    },
    {
     "name": "stdout",
     "output_type": "stream",
     "text": [
      "\n"
     ]
    },
    {
     "data": {
      "application/vnd.jupyter.widget-view+json": {
       "model_id": "628dc51b36b9479794ce85309aadfe2e",
       "version_major": 2,
       "version_minor": 0
      },
      "text/plain": [
       "HBox(children=(FloatProgress(value=0.0, max=56.0), HTML(value='')))"
      ]
     },
     "metadata": {},
     "output_type": "display_data"
    },
    {
     "name": "stdout",
     "output_type": "stream",
     "text": [
      "\n"
     ]
    }
   ],
   "source": [
    "path_lst = []\n",
    "for directory in Path(INPUT).iterdir():\n",
    "    if directory.name in [\".DS_Store\"]:\n",
    "        continue\n",
    "    dir_paths = [f for f in directory.iterdir() if f.name not in [\".DS_Store\", \"train_mod.csv\"]]\n",
    "    for dname in tqdm.tqdm_notebook(dir_paths, total=len(dir_paths)):\n",
    "        file_paths = [f for f in dname.iterdir() if f.name != \".DS_Store\"]\n",
    "        path_lst += file_paths\n",
    "        !mkdir -p \"{OUTPUT}/{dname.name}\"\n",
    "        with Pool(NUM_WORKERS // 2) as p:\n",
    "            #p.map(audio2pict, file_paths)\n",
    "            p.map(audio2vec, file_paths)"
   ]
  },
  {
   "cell_type": "code",
   "execution_count": 4,
   "metadata": {},
   "outputs": [],
   "source": [
    "from PIL import Image\n",
    "from pathlib import Path\n",
    "\n",
    "for directory in Path(\"../output/train_img_6\").iterdir():\n",
    "    if directory.name == \".DS_Store\":\n",
    "        continue\n",
    "    file_paths = [f for f in directory.iterdir() if f.name != \".DS_Store\"]\n",
    "    for path in file_paths:\n",
    "        try:\n",
    "            with open(path, 'rb') as f: img = Image.open(f)\n",
    "        except:\n",
    "            print(path)\n",
    "            #!rm {path}"
   ]
  },
  {
   "cell_type": "code",
   "execution_count": null,
   "metadata": {},
   "outputs": [],
   "source": []
  }
 ],
 "metadata": {
  "kernelspec": {
   "display_name": "Python 3",
   "language": "python",
   "name": "python3"
  },
  "language_info": {
   "codemirror_mode": {
    "name": "ipython",
    "version": 3
   },
   "file_extension": ".py",
   "mimetype": "text/x-python",
   "name": "python",
   "nbconvert_exporter": "python",
   "pygments_lexer": "ipython3",
   "version": "3.7.4"
  }
 },
 "nbformat": 4,
 "nbformat_minor": 2
}
